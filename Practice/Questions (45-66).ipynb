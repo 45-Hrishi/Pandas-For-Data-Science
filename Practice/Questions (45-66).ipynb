{
 "cells": [
  {
   "cell_type": "markdown",
   "metadata": {},
   "source": [
    "## <h2 style=\"text-align:center;color:red;font-family:cursive\">101 Pandas Practice Questions.</h2>\n",
    "### <h3 style=\"text-align:left;color:skyblue;font-family:cursive\">From basic to Intermediate.</h3>\n",
    "#### (45-66) Questions."
   ]
  },
  {
   "cell_type": "code",
   "execution_count": 18,
   "metadata": {},
   "outputs": [],
   "source": [
    "import pandas as pd\n",
    "import numpy as np"
   ]
  },
  {
   "cell_type": "code",
   "execution_count": 37,
   "metadata": {},
   "outputs": [
    {
     "data": {
      "text/plain": [
       "crim       24\n",
       "zn         24\n",
       "indus      24\n",
       "chas       24\n",
       "nox        24\n",
       "rm         24\n",
       "age        24\n",
       "dis        24\n",
       "rad        24\n",
       "tax        24\n",
       "ptratio    24\n",
       "b          24\n",
       "lstat      24\n",
       "medv       24\n",
       "dtype: int64"
      ]
     },
     "execution_count": 37,
     "metadata": {},
     "output_type": "execute_result"
    }
   ],
   "source": [
    "df = pd.read_csv('BostonHousing.csv')\n",
    "df[df['crim'].between(1,2,inclusive=True)].count()"
   ]
  },
  {
   "cell_type": "code",
   "execution_count": null,
   "metadata": {},
   "outputs": [],
   "source": []
  }
 ],
 "metadata": {
  "interpreter": {
   "hash": "dcacb0086e9a4f4eabd41c33bf4faac5ea0a3337ed3f5eff0680afa930572c04"
  },
  "kernelspec": {
   "display_name": "Python 3.9.5 64-bit",
   "name": "python3"
  },
  "language_info": {
   "codemirror_mode": {
    "name": "ipython",
    "version": 3
   },
   "file_extension": ".py",
   "mimetype": "text/x-python",
   "name": "python",
   "nbconvert_exporter": "python",
   "pygments_lexer": "ipython3",
   "version": "3.9.5"
  },
  "orig_nbformat": 4
 },
 "nbformat": 4,
 "nbformat_minor": 2
}
